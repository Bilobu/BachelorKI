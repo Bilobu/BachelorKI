{
 "cells": [
  {
   "cell_type": "code",
   "execution_count": 35,
   "metadata": {
    "scrolled": true
   },
   "outputs": [],
   "source": [
    "import os\n",
    "import ExtractMsg\n",
    "\n",
    "docs=[]\n",
    "docsQuote=[]\n",
    "docsQuoteSubject=[]\n",
    "docsNoQuoteSubject=[]\n",
    "testDocSubject=[]\n",
    "docsNoQuote =[]\n",
    "testDoc =[]\n",
    "sendTimeQuote = []\n",
    "sendTimeTest = []\n",
    "sendTimeNoQuote = []\n",
    "attachmentsQuote = []\n",
    "attachmentsNoQuote=[]\n",
    "attachmentsTest=[]\n",
    "pathQuote = 'C:/Users/StefanLap/Desktop/Bachelorarbeit/TrainQuote/'\n",
    "pathNoQuote = 'C:/Users/StefanLap/Desktop/Bachelorarbeit/TrainNoQuote/'\n",
    "pathTest = 'C:/Users/StefanLap/Desktop/Bachelorarbeit/TestPredict/'\n",
    "\n",
    "def flag_attachment(mail):\n",
    "    if  not mail.attachments:\n",
    "        return 0\n",
    "    else :\n",
    "        return 1    \n",
    "\n",
    "\n",
    "def filldoclist(filepath, fillList, subjectList, timelist, attachmentlist) :\n",
    "        for file in os.listdir(filepath):\n",
    "            mail = ExtractMsg.Message(filepath+file)\n",
    "            try:\n",
    "                \n",
    "                fillList.append(mail.body)\n",
    "                subjectList.append(file)\n",
    "                timelist.append(mail.date)\n",
    "                attachmentlist.append(flag_attachment(mail))\n",
    "                continue\n",
    "            except UnicodeDecodeError:\n",
    "                continue                \n",
    "            \n",
    "            \n",
    "filldoclist(pathQuote, docsQuote, docsQuoteSubject, sendTimeQuote, attachmentsQuote)\n",
    "filldoclist(pathNoQuote, docsNoQuote, docsNoQuoteSubject, sendTimeNoQuote, attachmentsNoQuote)\n",
    "filldoclist(pathTest, testDoc, testDocSubject, sendTimeTest, attachmentsTest)\n",
    "\n",
    "        \n",
    "docs = docsQuote + docsNoQuote\n",
    "trainSubjects = docsQuoteSubject + docsNoQuoteSubject\n",
    "trainSendTime = sendTimeQuote + sendTimeNoQuote\n",
    "trainAttachments = attachmentsQuote + attachmentsNoQuote\n",
    "\n",
    "\n",
    "\n",
    "\n",
    "    "
   ]
  },
  {
   "cell_type": "code",
   "execution_count": 36,
   "metadata": {
    "scrolled": true
   },
   "outputs": [],
   "source": [
    "import numpy as np\n",
    "import nltk\n",
    "#Zählt wie viele ? im Text auftreten\n",
    "def count_question(content):\n",
    "    my_list = []\n",
    "    for text in content:\n",
    "        count = 0\n",
    "        tokens = nltk.word_tokenize(text)\n",
    "        for word in tokens:\n",
    "            if(word == \"?\"):\n",
    "                count = count + 1\n",
    "            else:\n",
    "                continue\n",
    "        my_list.append(count)\n",
    "    return np.asarray(my_list) \n",
    "\n",
    "\n"
   ]
  },
  {
   "cell_type": "code",
   "execution_count": 50,
   "metadata": {
    "scrolled": true
   },
   "outputs": [
    {
     "name": "stdout",
     "output_type": "stream",
     "text": [
      "(214, 7874)\n"
     ]
    }
   ],
   "source": [
    "from sklearn.feature_extraction.text import CountVectorizer\n",
    "from sklearn.feature_extraction.text import TfidfTransformer\n",
    "from sklearn.feature_extraction import stop_words\n",
    "from sklearn.feature_extraction import text\n",
    "from dateutil.parser import parse\n",
    "\n",
    "import numpy as np\n",
    "import pandas as pd\n",
    "from scipy.sparse import hstack\n",
    "\n",
    "\n",
    "targetlist=[]\n",
    "\n",
    "for i in range(0,len(docsQuote)):\n",
    "    targetlist.append(1)\n",
    "\n",
    "for i in range(0,len(docsNoQuote)):\n",
    "    targetlist.append(0)\n",
    "\n",
    "# Labels werden in array umgewandelt dass classifier es benutzen können shape = traindoclänge x 1\n",
    "train_y = np.asarray(targetlist)\n",
    "\n",
    "# Uhrzeit wird in 3 int Werte umgewandelt und einzeln abgespeichert shape = doclänge x 3\n",
    "def parse_send_time(timelist):\n",
    "    n = len(timelist)\n",
    "    m = 3\n",
    "    parsed_list = [[0] * m for i in range(n)]\n",
    "    for i in range(n):\n",
    "        time =  timelist[i]\n",
    "        if(time != None):\n",
    "            dt = parse(time)            \n",
    "            parsed_list[i][0] =dt.strftime('%H')\n",
    "            parsed_list[i][1]=dt.strftime('%M')\n",
    "            parsed_list[i][2]=dt.strftime('%S')\n",
    "            \n",
    "        else :\n",
    "            parsed_list[i][0] = 0\n",
    "            parsed_list[i][1]= 0\n",
    "            parsed_list[i][2]= 0\n",
    "    return np.asarray(parsed_list)\n",
    "\n",
    "\n",
    "\n",
    "\n",
    "#training und test content im Block da Tfidftransformer bei beiden gebraucht werden\n",
    "\n",
    "file =open('C:/Users/StefanLap/Desktop/Bachelorarbeit/stopwords.txt', 'r', encoding='utf8')\n",
    "stop_words_ger = file.read()\n",
    "\n",
    "my_stop_words = frozenset(nltk.word_tokenize(stop_words_ger))\n",
    "\n",
    "\n",
    "\n",
    "count_vect = CountVectorizer(stop_words=my_stop_words )\n",
    "content_count = count_vect.fit_transform(docs)\n",
    "tf_transformer = TfidfTransformer(use_idf=False).fit(content_count)\n",
    "content_tfidf = tf_transformer.transform(content_count).toarray()\n",
    "\n",
    "\n",
    "test_content_counts = count_vect.transform(testDoc)\n",
    "test_content_tfidf = tf_transformer.transform(test_content_counts).toarray()\n",
    "\n",
    "\n",
    "#training und test subject im Block da Tfidftransformer bei beiden gebraucht wird\n",
    "\n",
    "count_vect_subject = CountVectorizer( )\n",
    "subject_count = count_vect_subject.fit_transform(trainSubjects)\n",
    "tf_subject_transformer =TfidfTransformer(use_idf=False).fit(subject_count)\n",
    "subject_tfidf = tf_subject_transformer.transform(subject_count).toarray()\n",
    "\n",
    "test_subject_counts = count_vect_subject.transform(testDocSubject)\n",
    "test_subject_tfidf = tf_subject_transformer.transform(test_subject_counts).toarray()\n",
    "\n",
    "#verusch tfidf des Inhalts und Countvectorizer des Betreffs zu kombinieren\n",
    "\n",
    "\n",
    "\n",
    "\n",
    "#print(content_tfidf.shape)\n",
    "#print(test_content_tfidf.shape)\n",
    "#print(subject_tfidf.shape)\n",
    "#print(test_subject_tfidf.shape)\n",
    "\n",
    "\n",
    "\n",
    "train_attachments = np.asarray([trainAttachments])\n",
    "train_send_time = parse_send_time(trainSendTime)\n",
    "numpyTarget = np.asarray([targetlist])\n",
    "\n",
    "\n",
    "test_attachments = np.asarray([attachmentsTest])\n",
    "test_send_time = parse_send_time(sendTimeTest)\n",
    "\n",
    "\n",
    "\n",
    "test_content_subject_set = np.hstack((test_content_tfidf, test_subject_tfidf))\n",
    "test_content_subject_time_set = np.hstack((test_content_tfidf, test_subject_tfidf, test_send_time))\n",
    "test_content_subject_time_attachments_set = np.concatenate((test_content_subject_time_set, test_attachments.T ), axis=1)\n",
    "\n",
    "      \n",
    "\n",
    "\n",
    "\n",
    "\n",
    "train_content_subject_set = np.hstack((content_tfidf, subject_tfidf))\n",
    "train_content_subject_time_set = np.hstack((content_tfidf, subject_tfidf, train_send_time))\n",
    "train_content_subject_label_set =np.concatenate((train_content_subject_set, numpyTarget.T), axis=1)\n",
    "train_content_subject_time_attachments_set = np.concatenate((train_content_subject_time_set, train_attachments.T ), axis=1)\n",
    "\n",
    "x_test =  np.array(test_content_subject_set).astype(np.float) \n",
    "x_train = np.array(train_content_subject_set).astype(np.float)\n",
    "\n",
    "\n",
    "print(train_content_subject_set.shape)\n",
    "\n"
   ]
  },
  {
   "cell_type": "code",
   "execution_count": 51,
   "metadata": {
    "collapsed": true
   },
   "outputs": [],
   "source": [
    "import numpy as np\n",
    "from sklearn.neighbors import KNeighborsClassifier\n",
    "from sklearn.svm import SVC\n",
    "from sklearn.neural_network import MLPClassifier\n",
    "from sklearn.preprocessing import StandardScaler\n",
    "from sklearn.naive_bayes import GaussianNB\n",
    "from sklearn.naive_bayes import BernoulliNB\n",
    "\n",
    "def fit_neuronal(training_dataset, targetlist):\n",
    "    temp_neuronal = MLPClassifier(solver='lbfgs', alpha=1e-5,\n",
    "                    hidden_layer_sizes=(5, 2), random_state=1)\n",
    "    temp_neuronal.fit(training_dataset, targetlist)\n",
    "    return temp_neuronal\n",
    "\n",
    "def fit_svm(training_dataset, targetlist):\n",
    "    scaler = StandardScaler()\n",
    "    X = scaler.fit_transform(training_dataset)\n",
    "    temp_svm = SVC()\n",
    "    temp_svm.fit(X, targetlist)\n",
    "    return temp_svm\n",
    "\n",
    "\n",
    "def fit_knn(training_dataset, targetlist):\n",
    "    temp_knn= KNeighborsClassifier(n_neighbors=7)\n",
    "    temp_knn.fit(training_dataset, targetlist)\n",
    "    return temp_knn\n",
    "\n",
    "def fit_NB(training_dataset, targetlist, bernoulli):\n",
    "    if (bernoulli == True) :\n",
    "        temp_NB = BernoulliNB()\n",
    "        temp_NB.fit(training_dataset, targetlist)\n",
    "        return temp_NB\n",
    "    else :\n",
    "        temp_NB = GaussianNB()\n",
    "        temp_NB.fit(training_dataset, targetlist)\n",
    "        return temp_NB\n",
    "    \n",
    "nb = fit_NB(x_train, targetlist, False)\n",
    "nb_B = fit_NB(x_train, targetlist, True)\n",
    "knn = fit_knn(x_train, targetlist)\n",
    "svm = fit_svm(x_train, targetlist)\n",
    "\n",
    "neuronal = fit_neuronal(x_train, targetlist)\n",
    "\n",
    "\n",
    "\n",
    "\n"
   ]
  },
  {
   "cell_type": "code",
   "execution_count": 52,
   "metadata": {},
   "outputs": [
    {
     "name": "stdout",
     "output_type": "stream",
     "text": [
      "GaussianNB\n",
      "[1 0 0 1 1 1 1 1 0 1 1 1 0 1 1 1 1 1 1 1 1 0 0 0 1]\n",
      "BernoulliNB\n",
      "[0 0 0 0 0 0 0 0 0 0 1 0 0 0 0 0 0 1 1 1 0 1 0 0 1]\n"
     ]
    }
   ],
   "source": [
    "#predicted_knn = knn.predict(test_content_subject_time_set)\n",
    "predicted_nb = nb.predict(x_test)\n",
    "predicted_nb_B = nb_B.predict(x_test)\n",
    "#predicted_svm = svm.predict(x_test)\n",
    "#predicted_neuronal = neuronal.predict(x_test)\n",
    "print(\"GaussianNB\")\n",
    "print( predicted_nb)\n",
    "#print(predicted_knn)\n",
    "print(\"BernoulliNB\")\n",
    "print( predicted_nb_B)\n",
    "#print(predicted_svm)\n",
    "#print(predicted_neuronal)"
   ]
  },
  {
   "cell_type": "code",
   "execution_count": 5,
   "metadata": {
    "collapsed": true
   },
   "outputs": [],
   "source": [
    "from sklearn.model_selection import KFold\n",
    "from sklearn.model_selection import cross_val_score\n",
    "from sklearn.model_selection import ShuffleSplit\n",
    "k_fold = KFold(n_splits=10, shuffle=True, random_state=0)\n",
    "ss = ShuffleSplit(n_splits=10, test_size=0.25, random_state=0)\n"
   ]
  },
  {
   "cell_type": "code",
   "execution_count": 6,
   "metadata": {
    "scrolled": true
   },
   "outputs": [
    {
     "name": "stdout",
     "output_type": "stream",
     "text": [
      "[ 0.83333333  0.7962963   0.74074074  0.74074074  0.74074074  0.75925926\n",
      "  0.92592593  0.72222222  0.81481481  0.81481481]\n",
      "[ 0.81481481  0.85185185  0.74074074  0.90740741  0.75925926  0.88888889\n",
      "  0.85185185  0.7962963   0.81481481  0.81481481]\n",
      "[ 0.77777778  0.83333333  0.72222222  0.88888889  0.85185185  0.81481481\n",
      "  0.81481481  0.87037037  0.81481481  0.7962963 ]\n",
      "[ 0.59090909  0.54545455  0.40909091  0.54545455  0.57142857  0.38095238\n",
      "  0.52380952  0.52380952  0.61904762  0.47619048]\n"
     ]
    }
   ],
   "source": [
    "scoring = 'accuracy'\n",
    "score_knn= cross_val_score(knn, train_content_subject_set, targetlist, cv=ss, n_jobs=1, scoring=scoring)\n",
    "score_nb_B= cross_val_score(nb_B, train_content_subject_set, targetlist, cv=ss, n_jobs=1, scoring=scoring)\n",
    "score_nb= cross_val_score(nb, train_content_subject_set, targetlist, cv=ss, n_jobs=1, scoring=scoring)\n",
    "score_svm= cross_val_score(svm, train_content_subject_set, targetlist, cv=k_fold, n_jobs=1, scoring=scoring)\n",
    "#score_neuronal= cross_val_score(neuronal, train_content_subject_set, targetlist, cv=k_fold, n_jobs=1, scoring=scoring)\n",
    "print(score_knn)\n",
    "print(score_nb)\n",
    "print(score_nb_B)\n",
    "print(score_svm)\n",
    "#print(score_neuronal)\n",
    "#print(\"Accuracy: %0.2f (+/- %0.2f)\" % (score_nb.mean(), scores.std() * 2))"
   ]
  },
  {
   "cell_type": "code",
   "execution_count": 7,
   "metadata": {},
   "outputs": [
    {
     "name": "stdout",
     "output_type": "stream",
     "text": [
      "78.89\n",
      "81.85\n",
      "82.41\n",
      "51.86\n"
     ]
    }
   ],
   "source": [
    "print(round(np.mean(score_knn)*100, 2))\n",
    "print(round(np.mean(score_nb_B)*100, 2))\n",
    "print(round(np.mean(score_nb)*100, 2))\n",
    "print(round(np.mean(score_svm)*100, 2))\n",
    "#print(round(np.mean(score_neuronal)*100, 2))"
   ]
  },
  {
   "cell_type": "code",
   "execution_count": 8,
   "metadata": {},
   "outputs": [
    {
     "name": "stdout",
     "output_type": "stream",
     "text": [
      "(25, 8398)\n"
     ]
    }
   ],
   "source": [
    "from sklearn.metrics import average_precision_score\n",
    "y_test= [1,0,0]\n",
    "print(x_test.shape)\n",
    "#y_score = knn.descision_function(x_test,y_test)\n",
    "#average_precision = average_precision_score()"
   ]
  },
  {
   "cell_type": "code",
   "execution_count": 12,
   "metadata": {
    "scrolled": true
   },
   "outputs": [
    {
     "name": "stdout",
     "output_type": "stream",
     "text": [
      "{'C': 1, 'kernel': 'linear'}\n",
      "[ 0.51869159  0.51869159  0.51869159  0.51869159  0.79439252  0.51869159\n",
      "  0.78971963  0.79439252  0.81308411  0.74766355  0.74766355  0.74766355]\n",
      "[ 0.00580359  0.00580359  0.00580359  0.00580359  0.09687561  0.00580359\n",
      "  0.05371676  0.09687561  0.07434394  0.06988659  0.08036899  0.08036899]\n"
     ]
    }
   ],
   "source": [
    "from sklearn.model_selection import GridSearchCV\n",
    "\n",
    "scores = ['precision', 'recall']\n",
    "\n",
    "\n",
    "\n",
    "\n",
    "tuned_parameters = [{'kernel': ['rbf'], 'gamma': [1e-3, 1e-4],\n",
    "                     'C': [1, 10, 100, 1000]},\n",
    "                    {'kernel': ['linear'], 'C': [1, 10, 100, 1000]}]\n",
    "clf = GridSearchCV(SVC(),tuned_parameters , cv=5)\n",
    "                    \n",
    "clf.fit(train_content_subject_set, targetlist)\n",
    "\n",
    "print(clf.best_params_)\n",
    "print(clf.cv_results_['mean_test_score'])\n",
    "print(clf.cv_results_['std_test_score'])\n"
   ]
  },
  {
   "cell_type": "code",
   "execution_count": 21,
   "metadata": {
    "scrolled": true
   },
   "outputs": [
    {
     "name": "stdout",
     "output_type": "stream",
     "text": [
      "dict_keys(['cv', 'error_score', 'estimator__C', 'estimator__cache_size', 'estimator__class_weight', 'estimator__coef0', 'estimator__decision_function_shape', 'estimator__degree', 'estimator__gamma', 'estimator__kernel', 'estimator__max_iter', 'estimator__probability', 'estimator__random_state', 'estimator__shrinking', 'estimator__tol', 'estimator__verbose', 'estimator', 'fit_params', 'iid', 'n_jobs', 'param_grid', 'pre_dispatch', 'refit', 'return_train_score', 'scoring', 'verbose'])\n"
     ]
    },
    {
     "ename": "ValueError",
     "evalue": "Invalid parameter C for estimator GridSearchCV(cv=5, error_score='raise',\n       estimator=SVC(C=1.0, cache_size=200, class_weight=None, coef0=0.0,\n  decision_function_shape='ovr', degree=3, gamma='auto', kernel='rbf',\n  max_iter=-1, probability=False, random_state=None, shrinking=True,\n  tol=0.001, verbose=False),\n       fit_params=None, iid=True, n_jobs=1,\n       param_grid=[{'kernel': ['rbf'], 'gamma': [0.001, 0.0001], 'C': [1, 10, 100, 1000]}, {'kernel': ['linear'], 'C': [1, 10, 100, 1000]}],\n       pre_dispatch='2*n_jobs', refit=True, return_train_score='warn',\n       scoring=None, verbose=0). Check the list of available parameters with `estimator.get_params().keys()`.",
     "output_type": "error",
     "traceback": [
      "\u001b[1;31m---------------------------------------------------------------------------\u001b[0m",
      "\u001b[1;31mValueError\u001b[0m                                Traceback (most recent call last)",
      "\u001b[1;32m<ipython-input-21-dd2af2fe20f8>\u001b[0m in \u001b[0;36m<module>\u001b[1;34m()\u001b[0m\n\u001b[0;32m     11\u001b[0m                                    n_iter=n_iter_search)\n\u001b[0;32m     12\u001b[0m \u001b[1;33m\u001b[0m\u001b[0m\n\u001b[1;32m---> 13\u001b[1;33m \u001b[0mrandom_search\u001b[0m\u001b[1;33m.\u001b[0m\u001b[0mfit\u001b[0m\u001b[1;33m(\u001b[0m\u001b[0mtrain_content_subject_set\u001b[0m\u001b[1;33m,\u001b[0m \u001b[0mtargetlist\u001b[0m\u001b[1;33m)\u001b[0m\u001b[1;33m\u001b[0m\u001b[0m\n\u001b[0m\u001b[0;32m     14\u001b[0m \u001b[1;33m\u001b[0m\u001b[0m\n\u001b[0;32m     15\u001b[0m \u001b[0mprint\u001b[0m\u001b[1;33m(\u001b[0m\u001b[0mrandom_search\u001b[0m\u001b[1;33m.\u001b[0m\u001b[0mcv\u001b[0m\u001b[1;33m.\u001b[0m\u001b[0mresults_\u001b[0m\u001b[1;33m)\u001b[0m\u001b[1;33m\u001b[0m\u001b[0m\n",
      "\u001b[1;32m~\\Anaconda3\\lib\\site-packages\\sklearn\\model_selection\\_search.py\u001b[0m in \u001b[0;36mfit\u001b[1;34m(self, X, y, groups, **fit_params)\u001b[0m\n\u001b[0;32m    637\u001b[0m                                   error_score=self.error_score)\n\u001b[0;32m    638\u001b[0m           for parameters, (train, test) in product(candidate_params,\n\u001b[1;32m--> 639\u001b[1;33m                                                    cv.split(X, y, groups)))\n\u001b[0m\u001b[0;32m    640\u001b[0m \u001b[1;33m\u001b[0m\u001b[0m\n\u001b[0;32m    641\u001b[0m         \u001b[1;31m# if one choose to see train score, \"out\" will contain train score info\u001b[0m\u001b[1;33m\u001b[0m\u001b[1;33m\u001b[0m\u001b[0m\n",
      "\u001b[1;32m~\\Anaconda3\\lib\\site-packages\\sklearn\\externals\\joblib\\parallel.py\u001b[0m in \u001b[0;36m__call__\u001b[1;34m(self, iterable)\u001b[0m\n\u001b[0;32m    777\u001b[0m             \u001b[1;31m# was dispatched. In particular this covers the edge\u001b[0m\u001b[1;33m\u001b[0m\u001b[1;33m\u001b[0m\u001b[0m\n\u001b[0;32m    778\u001b[0m             \u001b[1;31m# case of Parallel used with an exhausted iterator.\u001b[0m\u001b[1;33m\u001b[0m\u001b[1;33m\u001b[0m\u001b[0m\n\u001b[1;32m--> 779\u001b[1;33m             \u001b[1;32mwhile\u001b[0m \u001b[0mself\u001b[0m\u001b[1;33m.\u001b[0m\u001b[0mdispatch_one_batch\u001b[0m\u001b[1;33m(\u001b[0m\u001b[0miterator\u001b[0m\u001b[1;33m)\u001b[0m\u001b[1;33m:\u001b[0m\u001b[1;33m\u001b[0m\u001b[0m\n\u001b[0m\u001b[0;32m    780\u001b[0m                 \u001b[0mself\u001b[0m\u001b[1;33m.\u001b[0m\u001b[0m_iterating\u001b[0m \u001b[1;33m=\u001b[0m \u001b[1;32mTrue\u001b[0m\u001b[1;33m\u001b[0m\u001b[0m\n\u001b[0;32m    781\u001b[0m             \u001b[1;32melse\u001b[0m\u001b[1;33m:\u001b[0m\u001b[1;33m\u001b[0m\u001b[0m\n",
      "\u001b[1;32m~\\Anaconda3\\lib\\site-packages\\sklearn\\externals\\joblib\\parallel.py\u001b[0m in \u001b[0;36mdispatch_one_batch\u001b[1;34m(self, iterator)\u001b[0m\n\u001b[0;32m    623\u001b[0m                 \u001b[1;32mreturn\u001b[0m \u001b[1;32mFalse\u001b[0m\u001b[1;33m\u001b[0m\u001b[0m\n\u001b[0;32m    624\u001b[0m             \u001b[1;32melse\u001b[0m\u001b[1;33m:\u001b[0m\u001b[1;33m\u001b[0m\u001b[0m\n\u001b[1;32m--> 625\u001b[1;33m                 \u001b[0mself\u001b[0m\u001b[1;33m.\u001b[0m\u001b[0m_dispatch\u001b[0m\u001b[1;33m(\u001b[0m\u001b[0mtasks\u001b[0m\u001b[1;33m)\u001b[0m\u001b[1;33m\u001b[0m\u001b[0m\n\u001b[0m\u001b[0;32m    626\u001b[0m                 \u001b[1;32mreturn\u001b[0m \u001b[1;32mTrue\u001b[0m\u001b[1;33m\u001b[0m\u001b[0m\n\u001b[0;32m    627\u001b[0m \u001b[1;33m\u001b[0m\u001b[0m\n",
      "\u001b[1;32m~\\Anaconda3\\lib\\site-packages\\sklearn\\externals\\joblib\\parallel.py\u001b[0m in \u001b[0;36m_dispatch\u001b[1;34m(self, batch)\u001b[0m\n\u001b[0;32m    586\u001b[0m         \u001b[0mdispatch_timestamp\u001b[0m \u001b[1;33m=\u001b[0m \u001b[0mtime\u001b[0m\u001b[1;33m.\u001b[0m\u001b[0mtime\u001b[0m\u001b[1;33m(\u001b[0m\u001b[1;33m)\u001b[0m\u001b[1;33m\u001b[0m\u001b[0m\n\u001b[0;32m    587\u001b[0m         \u001b[0mcb\u001b[0m \u001b[1;33m=\u001b[0m \u001b[0mBatchCompletionCallBack\u001b[0m\u001b[1;33m(\u001b[0m\u001b[0mdispatch_timestamp\u001b[0m\u001b[1;33m,\u001b[0m \u001b[0mlen\u001b[0m\u001b[1;33m(\u001b[0m\u001b[0mbatch\u001b[0m\u001b[1;33m)\u001b[0m\u001b[1;33m,\u001b[0m \u001b[0mself\u001b[0m\u001b[1;33m)\u001b[0m\u001b[1;33m\u001b[0m\u001b[0m\n\u001b[1;32m--> 588\u001b[1;33m         \u001b[0mjob\u001b[0m \u001b[1;33m=\u001b[0m \u001b[0mself\u001b[0m\u001b[1;33m.\u001b[0m\u001b[0m_backend\u001b[0m\u001b[1;33m.\u001b[0m\u001b[0mapply_async\u001b[0m\u001b[1;33m(\u001b[0m\u001b[0mbatch\u001b[0m\u001b[1;33m,\u001b[0m \u001b[0mcallback\u001b[0m\u001b[1;33m=\u001b[0m\u001b[0mcb\u001b[0m\u001b[1;33m)\u001b[0m\u001b[1;33m\u001b[0m\u001b[0m\n\u001b[0m\u001b[0;32m    589\u001b[0m         \u001b[0mself\u001b[0m\u001b[1;33m.\u001b[0m\u001b[0m_jobs\u001b[0m\u001b[1;33m.\u001b[0m\u001b[0mappend\u001b[0m\u001b[1;33m(\u001b[0m\u001b[0mjob\u001b[0m\u001b[1;33m)\u001b[0m\u001b[1;33m\u001b[0m\u001b[0m\n\u001b[0;32m    590\u001b[0m \u001b[1;33m\u001b[0m\u001b[0m\n",
      "\u001b[1;32m~\\Anaconda3\\lib\\site-packages\\sklearn\\externals\\joblib\\_parallel_backends.py\u001b[0m in \u001b[0;36mapply_async\u001b[1;34m(self, func, callback)\u001b[0m\n\u001b[0;32m    109\u001b[0m     \u001b[1;32mdef\u001b[0m \u001b[0mapply_async\u001b[0m\u001b[1;33m(\u001b[0m\u001b[0mself\u001b[0m\u001b[1;33m,\u001b[0m \u001b[0mfunc\u001b[0m\u001b[1;33m,\u001b[0m \u001b[0mcallback\u001b[0m\u001b[1;33m=\u001b[0m\u001b[1;32mNone\u001b[0m\u001b[1;33m)\u001b[0m\u001b[1;33m:\u001b[0m\u001b[1;33m\u001b[0m\u001b[0m\n\u001b[0;32m    110\u001b[0m         \u001b[1;34m\"\"\"Schedule a func to be run\"\"\"\u001b[0m\u001b[1;33m\u001b[0m\u001b[0m\n\u001b[1;32m--> 111\u001b[1;33m         \u001b[0mresult\u001b[0m \u001b[1;33m=\u001b[0m \u001b[0mImmediateResult\u001b[0m\u001b[1;33m(\u001b[0m\u001b[0mfunc\u001b[0m\u001b[1;33m)\u001b[0m\u001b[1;33m\u001b[0m\u001b[0m\n\u001b[0m\u001b[0;32m    112\u001b[0m         \u001b[1;32mif\u001b[0m \u001b[0mcallback\u001b[0m\u001b[1;33m:\u001b[0m\u001b[1;33m\u001b[0m\u001b[0m\n\u001b[0;32m    113\u001b[0m             \u001b[0mcallback\u001b[0m\u001b[1;33m(\u001b[0m\u001b[0mresult\u001b[0m\u001b[1;33m)\u001b[0m\u001b[1;33m\u001b[0m\u001b[0m\n",
      "\u001b[1;32m~\\Anaconda3\\lib\\site-packages\\sklearn\\externals\\joblib\\_parallel_backends.py\u001b[0m in \u001b[0;36m__init__\u001b[1;34m(self, batch)\u001b[0m\n\u001b[0;32m    330\u001b[0m         \u001b[1;31m# Don't delay the application, to avoid keeping the input\u001b[0m\u001b[1;33m\u001b[0m\u001b[1;33m\u001b[0m\u001b[0m\n\u001b[0;32m    331\u001b[0m         \u001b[1;31m# arguments in memory\u001b[0m\u001b[1;33m\u001b[0m\u001b[1;33m\u001b[0m\u001b[0m\n\u001b[1;32m--> 332\u001b[1;33m         \u001b[0mself\u001b[0m\u001b[1;33m.\u001b[0m\u001b[0mresults\u001b[0m \u001b[1;33m=\u001b[0m \u001b[0mbatch\u001b[0m\u001b[1;33m(\u001b[0m\u001b[1;33m)\u001b[0m\u001b[1;33m\u001b[0m\u001b[0m\n\u001b[0m\u001b[0;32m    333\u001b[0m \u001b[1;33m\u001b[0m\u001b[0m\n\u001b[0;32m    334\u001b[0m     \u001b[1;32mdef\u001b[0m \u001b[0mget\u001b[0m\u001b[1;33m(\u001b[0m\u001b[0mself\u001b[0m\u001b[1;33m)\u001b[0m\u001b[1;33m:\u001b[0m\u001b[1;33m\u001b[0m\u001b[0m\n",
      "\u001b[1;32m~\\Anaconda3\\lib\\site-packages\\sklearn\\externals\\joblib\\parallel.py\u001b[0m in \u001b[0;36m__call__\u001b[1;34m(self)\u001b[0m\n\u001b[0;32m    129\u001b[0m \u001b[1;33m\u001b[0m\u001b[0m\n\u001b[0;32m    130\u001b[0m     \u001b[1;32mdef\u001b[0m \u001b[0m__call__\u001b[0m\u001b[1;33m(\u001b[0m\u001b[0mself\u001b[0m\u001b[1;33m)\u001b[0m\u001b[1;33m:\u001b[0m\u001b[1;33m\u001b[0m\u001b[0m\n\u001b[1;32m--> 131\u001b[1;33m         \u001b[1;32mreturn\u001b[0m \u001b[1;33m[\u001b[0m\u001b[0mfunc\u001b[0m\u001b[1;33m(\u001b[0m\u001b[1;33m*\u001b[0m\u001b[0margs\u001b[0m\u001b[1;33m,\u001b[0m \u001b[1;33m**\u001b[0m\u001b[0mkwargs\u001b[0m\u001b[1;33m)\u001b[0m \u001b[1;32mfor\u001b[0m \u001b[0mfunc\u001b[0m\u001b[1;33m,\u001b[0m \u001b[0margs\u001b[0m\u001b[1;33m,\u001b[0m \u001b[0mkwargs\u001b[0m \u001b[1;32min\u001b[0m \u001b[0mself\u001b[0m\u001b[1;33m.\u001b[0m\u001b[0mitems\u001b[0m\u001b[1;33m]\u001b[0m\u001b[1;33m\u001b[0m\u001b[0m\n\u001b[0m\u001b[0;32m    132\u001b[0m \u001b[1;33m\u001b[0m\u001b[0m\n\u001b[0;32m    133\u001b[0m     \u001b[1;32mdef\u001b[0m \u001b[0m__len__\u001b[0m\u001b[1;33m(\u001b[0m\u001b[0mself\u001b[0m\u001b[1;33m)\u001b[0m\u001b[1;33m:\u001b[0m\u001b[1;33m\u001b[0m\u001b[0m\n",
      "\u001b[1;32m~\\Anaconda3\\lib\\site-packages\\sklearn\\externals\\joblib\\parallel.py\u001b[0m in \u001b[0;36m<listcomp>\u001b[1;34m(.0)\u001b[0m\n\u001b[0;32m    129\u001b[0m \u001b[1;33m\u001b[0m\u001b[0m\n\u001b[0;32m    130\u001b[0m     \u001b[1;32mdef\u001b[0m \u001b[0m__call__\u001b[0m\u001b[1;33m(\u001b[0m\u001b[0mself\u001b[0m\u001b[1;33m)\u001b[0m\u001b[1;33m:\u001b[0m\u001b[1;33m\u001b[0m\u001b[0m\n\u001b[1;32m--> 131\u001b[1;33m         \u001b[1;32mreturn\u001b[0m \u001b[1;33m[\u001b[0m\u001b[0mfunc\u001b[0m\u001b[1;33m(\u001b[0m\u001b[1;33m*\u001b[0m\u001b[0margs\u001b[0m\u001b[1;33m,\u001b[0m \u001b[1;33m**\u001b[0m\u001b[0mkwargs\u001b[0m\u001b[1;33m)\u001b[0m \u001b[1;32mfor\u001b[0m \u001b[0mfunc\u001b[0m\u001b[1;33m,\u001b[0m \u001b[0margs\u001b[0m\u001b[1;33m,\u001b[0m \u001b[0mkwargs\u001b[0m \u001b[1;32min\u001b[0m \u001b[0mself\u001b[0m\u001b[1;33m.\u001b[0m\u001b[0mitems\u001b[0m\u001b[1;33m]\u001b[0m\u001b[1;33m\u001b[0m\u001b[0m\n\u001b[0m\u001b[0;32m    132\u001b[0m \u001b[1;33m\u001b[0m\u001b[0m\n\u001b[0;32m    133\u001b[0m     \u001b[1;32mdef\u001b[0m \u001b[0m__len__\u001b[0m\u001b[1;33m(\u001b[0m\u001b[0mself\u001b[0m\u001b[1;33m)\u001b[0m\u001b[1;33m:\u001b[0m\u001b[1;33m\u001b[0m\u001b[0m\n",
      "\u001b[1;32m~\\Anaconda3\\lib\\site-packages\\sklearn\\model_selection\\_validation.py\u001b[0m in \u001b[0;36m_fit_and_score\u001b[1;34m(estimator, X, y, scorer, train, test, verbose, parameters, fit_params, return_train_score, return_parameters, return_n_test_samples, return_times, error_score)\u001b[0m\n\u001b[0;32m    442\u001b[0m     \u001b[0mtrain_scores\u001b[0m \u001b[1;33m=\u001b[0m \u001b[1;33m{\u001b[0m\u001b[1;33m}\u001b[0m\u001b[1;33m\u001b[0m\u001b[0m\n\u001b[0;32m    443\u001b[0m     \u001b[1;32mif\u001b[0m \u001b[0mparameters\u001b[0m \u001b[1;32mis\u001b[0m \u001b[1;32mnot\u001b[0m \u001b[1;32mNone\u001b[0m\u001b[1;33m:\u001b[0m\u001b[1;33m\u001b[0m\u001b[0m\n\u001b[1;32m--> 444\u001b[1;33m         \u001b[0mestimator\u001b[0m\u001b[1;33m.\u001b[0m\u001b[0mset_params\u001b[0m\u001b[1;33m(\u001b[0m\u001b[1;33m**\u001b[0m\u001b[0mparameters\u001b[0m\u001b[1;33m)\u001b[0m\u001b[1;33m\u001b[0m\u001b[0m\n\u001b[0m\u001b[0;32m    445\u001b[0m \u001b[1;33m\u001b[0m\u001b[0m\n\u001b[0;32m    446\u001b[0m     \u001b[0mstart_time\u001b[0m \u001b[1;33m=\u001b[0m \u001b[0mtime\u001b[0m\u001b[1;33m.\u001b[0m\u001b[0mtime\u001b[0m\u001b[1;33m(\u001b[0m\u001b[1;33m)\u001b[0m\u001b[1;33m\u001b[0m\u001b[0m\n",
      "\u001b[1;32m~\\Anaconda3\\lib\\site-packages\\sklearn\\base.py\u001b[0m in \u001b[0;36mset_params\u001b[1;34m(self, **params)\u001b[0m\n\u001b[0;32m    272\u001b[0m                                  \u001b[1;34m'Check the list of available parameters '\u001b[0m\u001b[1;33m\u001b[0m\u001b[0m\n\u001b[0;32m    273\u001b[0m                                  \u001b[1;34m'with `estimator.get_params().keys()`.'\u001b[0m \u001b[1;33m%\u001b[0m\u001b[1;33m\u001b[0m\u001b[0m\n\u001b[1;32m--> 274\u001b[1;33m                                  (key, self))\n\u001b[0m\u001b[0;32m    275\u001b[0m \u001b[1;33m\u001b[0m\u001b[0m\n\u001b[0;32m    276\u001b[0m             \u001b[1;32mif\u001b[0m \u001b[0mdelim\u001b[0m\u001b[1;33m:\u001b[0m\u001b[1;33m\u001b[0m\u001b[0m\n",
      "\u001b[1;31mValueError\u001b[0m: Invalid parameter C for estimator GridSearchCV(cv=5, error_score='raise',\n       estimator=SVC(C=1.0, cache_size=200, class_weight=None, coef0=0.0,\n  decision_function_shape='ovr', degree=3, gamma='auto', kernel='rbf',\n  max_iter=-1, probability=False, random_state=None, shrinking=True,\n  tol=0.001, verbose=False),\n       fit_params=None, iid=True, n_jobs=1,\n       param_grid=[{'kernel': ['rbf'], 'gamma': [0.001, 0.0001], 'C': [1, 10, 100, 1000]}, {'kernel': ['linear'], 'C': [1, 10, 100, 1000]}],\n       pre_dispatch='2*n_jobs', refit=True, return_train_score='warn',\n       scoring=None, verbose=0). Check the list of available parameters with `estimator.get_params().keys()`."
     ]
    }
   ],
   "source": [
    "from sklearn.model_selection import RandomizedSearchCV\n",
    "from scipy.stats import expon \n",
    "# specify parameters and distributions to sample from\n",
    "print(clf.get_params().keys())\n",
    "param_dist = {'C': expon(scale=100), 'gamma': expon(scale=.1),\n",
    "  'kernel': ['rbf'], 'class_weight':['balanced', None]}\n",
    "\n",
    "# run randomized search\n",
    "n_iter_search = 20\n",
    "random_search = RandomizedSearchCV(clf, param_distributions=param_dist,\n",
    "                                   n_iter=n_iter_search)\n",
    "\n",
    "random_search.fit(train_content_subject_set, targetlist)\n",
    "\n",
    "print(random_search.cv.results_)"
   ]
  },
  {
   "cell_type": "code",
   "execution_count": 73,
   "metadata": {},
   "outputs": [
    {
     "data": {
      "text/plain": [
       "array([1, 0, 0, 1, 0, 0, 1, 1, 0, 0, 1, 1, 1, 0, 0, 1, 1, 1, 1, 1, 1, 0, 1,\n",
       "       0, 1])"
      ]
     },
     "execution_count": 73,
     "metadata": {},
     "output_type": "execute_result"
    }
   ],
   "source": [
    "from sklearn.model_selection import GridSearchCV\n",
    "\n",
    "\n",
    "gs = GridSearchCV(MLPClassifier(), param_grid={\n",
    "    'learning_rate': [\"constant\", \"invscaling\", \"adaptive\"],\n",
    "    'hidden_layer_sizes': [(30,40,50,60)], #[x for x in itertools.product((10,20,30,40,50,100),repeat=3)]\n",
    "\n",
    "'activation': [\"logistic\", \"relu\", \"tanh\"]})\n",
    "gs.fit(x_train, targetlist)\n",
    "\n"
   ]
  },
  {
   "cell_type": "code",
   "execution_count": 74,
   "metadata": {},
   "outputs": [
    {
     "name": "stdout",
     "output_type": "stream",
     "text": [
      "[1 0 0 1 0 0 1 1 0 0 1 1 1 0 0 1 1 1 1 1 1 0 1 0 1]\n"
     ]
    }
   ],
   "source": [
    "x=gs.predict(x_test)\n",
    "print(x)"
   ]
  },
  {
   "cell_type": "code",
   "execution_count": null,
   "metadata": {
    "collapsed": true
   },
   "outputs": [],
   "source": []
  }
 ],
 "metadata": {
  "kernelspec": {
   "display_name": "Python 3",
   "language": "python",
   "name": "python3"
  },
  "language_info": {
   "codemirror_mode": {
    "name": "ipython",
    "version": 3
   },
   "file_extension": ".py",
   "mimetype": "text/x-python",
   "name": "python",
   "nbconvert_exporter": "python",
   "pygments_lexer": "ipython3",
   "version": "3.6.3"
  }
 },
 "nbformat": 4,
 "nbformat_minor": 2
}
