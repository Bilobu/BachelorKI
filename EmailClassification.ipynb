{
 "cells": [
  {
   "cell_type": "code",
   "execution_count": 106,
   "metadata": {
    "collapsed": true,
    "scrolled": true
   },
   "outputs": [],
   "source": [
    "import os\n",
    "import ExtractMsg\n",
    "import re\n",
    "\n",
    "docs=[]\n",
    "docsQuote=[]\n",
    "docsQuoteSubject=[]\n",
    "docsNoQuoteSubject=[]\n",
    "testDocSubject=[]\n",
    "docsNoQuote =[]\n",
    "testDoc =[]\n",
    "sendTimeQuote = []\n",
    "sendTimeTest = []\n",
    "sendTimeNoQuote = []\n",
    "attachmentsQuote = []\n",
    "attachmentsNoQuote=[]\n",
    "attachmentsTest=[]\n",
    "pathQuote = 'C:/Users/StefanLap/Desktop/Bachelorarbeit/TrainQuote/'\n",
    "pathNoQuote = 'C:/Users/StefanLap/Desktop/Bachelorarbeit/TrainNoQuote/'\n",
    "pathTest = 'C:/Users/StefanLap/Desktop/Bachelorarbeit/TestPredict/'\n",
    "\n",
    "def flag_attachment(mail):\n",
    "    if  not mail.attachments:\n",
    "        return 0\n",
    "    else :\n",
    "        return 1    \n",
    "\n",
    "\n",
    "def filldoclist(filepath, fillList, subjectList, timelist, attachmentlist) :\n",
    "        for file in os.listdir(filepath):\n",
    "            mail = ExtractMsg.Message(filepath+file)\n",
    "            try:\n",
    "                content = mail.body\n",
    "                contentLinkless = re.sub('<.*?>', '', content)\n",
    "                fillList.append(contentLinkless)\n",
    "                subjectList.append(file)\n",
    "                timelist.append(mail.date)\n",
    "                attachmentlist.append(flag_attachment(mail))\n",
    "                continue\n",
    "            except UnicodeDecodeError:\n",
    "                continue                \n",
    "            \n",
    "            \n",
    "filldoclist(pathQuote, docsQuote, docsQuoteSubject, sendTimeQuote, attachmentsQuote)\n",
    "filldoclist(pathNoQuote, docsNoQuote, docsNoQuoteSubject, sendTimeNoQuote, attachmentsNoQuote)\n",
    "filldoclist(pathTest, testDoc, testDocSubject, sendTimeTest, attachmentsTest)\n",
    "\n",
    "        \n",
    "docs = docsQuote + docsNoQuote\n",
    "trainSubjects = docsQuoteSubject + docsNoQuoteSubject\n",
    "trainSendTime = sendTimeQuote + sendTimeNoQuote\n",
    "trainAttachments = attachmentsQuote + attachmentsNoQuote\n",
    "\n",
    "\n",
    "\n",
    "\n",
    "    "
   ]
  },
  {
   "cell_type": "code",
   "execution_count": 107,
   "metadata": {
    "collapsed": true,
    "scrolled": true
   },
   "outputs": [],
   "source": [
    "import numpy as np\n",
    "import nltk\n",
    "#Zählt wie viele ? im Text auftreten\n",
    "def count_question(content):\n",
    "    my_list = []\n",
    "    for text in content:\n",
    "        count = 0\n",
    "        tokens = nltk.word_tokenize(text)\n",
    "        for word in tokens:\n",
    "            if(word == \"?\"):\n",
    "                count = count + 1\n",
    "            else:\n",
    "                continue\n",
    "        my_list.append(count)\n",
    "    x = np.asmatrix(my_list)\n",
    "    return x.transpose()\n",
    "\n",
    "\n"
   ]
  },
  {
   "cell_type": "code",
   "execution_count": 108,
   "metadata": {},
   "outputs": [
    {
     "name": "stdout",
     "output_type": "stream",
     "text": [
      "(35, 1)\n"
     ]
    }
   ],
   "source": [
    "\n",
    "def check_Qnumber(mails):\n",
    "    values=[]\n",
    "    for mail in mails:\n",
    "        y= mail.split()\n",
    "        for word in y:\n",
    "            if(word.startswith(\"Q\") and len(word) == 11):\n",
    "                values.append(1)\n",
    "                break\n",
    "            else:\n",
    "                continue\n",
    "    x = np.asmatrix(values)\n",
    "    return x.transpose()\n",
    "\n",
    "print(check_Qnumber(docs).shape)\n"
   ]
  },
  {
   "cell_type": "code",
   "execution_count": null,
   "metadata": {
    "scrolled": true
   },
   "outputs": [],
   "source": [
    "from sklearn.feature_extraction.text import CountVectorizer\n",
    "from sklearn.feature_extraction.text import TfidfTransformer\n",
    "from sklearn.feature_extraction import stop_words\n",
    "from sklearn.feature_extraction import text\n",
    "from dateutil.parser import parse\n",
    "\n",
    "import numpy as np\n",
    "import pandas as pd\n",
    "from scipy.sparse import hstack\n",
    "\n",
    "\n",
    "targetlist=[]\n",
    "\n",
    "for i in range(0,len(docsQuote)):\n",
    "    targetlist.append(1)\n",
    "\n",
    "for i in range(0,len(docsNoQuote)):\n",
    "    targetlist.append(0)\n",
    "\n",
    "# Labels werden in array umgewandelt dass classifier es benutzen können shape = traindoclänge x 1\n",
    "train_y = np.asarray(targetlist)\n",
    "\n",
    "# Uhrzeit wird in 3 int Werte umgewandelt und einzeln abgespeichert shape = doclänge x 3\n",
    "def parse_send_time(timelist):\n",
    "    n = len(timelist)\n",
    "    m = 3\n",
    "    parsed_list = [[0] * m for i in range(n)]\n",
    "    for i in range(n):\n",
    "        time =  timelist[i]\n",
    "        if(time != None):\n",
    "            dt = parse(time)            \n",
    "            parsed_list[i][0] =dt.strftime('%H')\n",
    "            parsed_list[i][1]=dt.strftime('%M')\n",
    "            parsed_list[i][2]=dt.strftime('%S')\n",
    "            \n",
    "        else :\n",
    "            parsed_list[i][0] = 0\n",
    "            parsed_list[i][1]= 0\n",
    "            parsed_list[i][2]= 0\n",
    "    return np.asarray(parsed_list)\n",
    "\n",
    "\n",
    "\n",
    "\n",
    "#training und test content im Block da Tfidftransformer bei beiden gebraucht werden\n",
    "\n",
    "file =open('C:/Users/StefanLap/Desktop/Bachelorarbeit/stopwords.txt', 'r', encoding='utf8')\n",
    "stop_words_ger = file.read()\n",
    "\n",
    "my_stop_words = frozenset(nltk.word_tokenize(stop_words_ger))\n",
    "\n",
    "\n",
    "count_vect = CountVectorizer( stop_words=my_stop_words)\n",
    "content_count = count_vect.fit_transform(docs)\n",
    "tf_transformer = TfidfTransformer(use_idf=False).fit(content_count)\n",
    "content_tfidf = tf_transformer.transform(content_count).toarray()\n",
    "\n",
    "\n",
    "test_content_counts = count_vect.transform(testDoc)\n",
    "test_content_tfidf = tf_transformer.transform(test_content_counts).toarray()\n",
    "\n",
    "\n",
    "#training und test subject im Block da Tfidftransformer bei beiden gebraucht wird\n",
    "\n",
    "count_vect_subject = CountVectorizer( )\n",
    "subject_count = count_vect_subject.fit_transform(trainSubjects)\n",
    "tf_subject_transformer =TfidfTransformer(use_idf=False).fit(subject_count)\n",
    "subject_tfidf = tf_subject_transformer.transform(subject_count).toarray()\n",
    "\n",
    "test_subject_counts = count_vect_subject.transform(testDocSubject)\n",
    "test_subject_tfidf = tf_subject_transformer.transform(test_subject_counts).toarray()\n",
    "\n",
    "#verusch tfidf des Inhalts und Countvectorizer des Betreffs zu kombinieren\n",
    "\n",
    "\n",
    "\n",
    "\n",
    "#print(content_tfidf.shape)\n",
    "#print(test_content_tfidf.shape)\n",
    "#print(subject_tfidf.shape)\n",
    "#print(test_subject_tfidf.shape)\n",
    "\n",
    "\n",
    "\n",
    "train_attachments = np.asarray([trainAttachments]).transpose()\n",
    "train_send_time = parse_send_time(trainSendTime)\n",
    "numpyTarget = np.asarray([targetlist])\n",
    "train_count_question = count_question(docs)\n",
    "\n",
    "\n",
    "\n",
    "test_attachments = np.asarray([attachmentsTest])\n",
    "test_send_time = parse_send_time(sendTimeTest)\n",
    "test_count_question = count_question(testDoc)\n",
    "\n",
    "\n",
    "\n",
    "test_content_subject_set = np.hstack((test_content_tfidf, test_subject_tfidf))\n",
    "test_content_subject_time_set = np.hstack((test_content_tfidf, test_subject_tfidf, test_send_time))\n",
    "test_content_subject_time_attachments_set = np.concatenate((test_content_subject_time_set, test_attachments.T ), axis=1)\n",
    "test_content_subject_time_attachments_question_set = np.hstack((test_content_subject_time_attachments_set, test_count_question))\n",
    "#test_content_subject_attachment_set = np.hstack((test_content_subject_set, train_attachments))\n",
    "      \n",
    "\n",
    "\n",
    "\n",
    "\n",
    "train_content_subject_set = np.hstack((content_tfidf, subject_tfidf))\n",
    "train_content_subject_attachments_set = np.hstack((train_content_subject_set, train_attachments))\n",
    "train_content_subject_time_set = np.hstack((content_tfidf, subject_tfidf, train_send_time))\n",
    "train_content_subject_label_set =np.concatenate((train_content_subject_set, numpyTarget.T), axis=1)\n",
    "train_content_subject_time_attachments_set = np.hstack((train_content_subject_time_set, train_attachments ))\n",
    "train_content_subject_time_attachments_question_set = np.hstack((train_content_subject_time_attachments_set, train_count_question))\n",
    "\n",
    "x_test =  np.array(train_content_subject_time_attachments_set).astype(np.float) \n",
    "x_train = np.array(train_send_time).astype(np.float)\n",
    "\n",
    "\n",
    "\n",
    "\n"
   ]
  },
  {
   "cell_type": "code",
   "execution_count": null,
   "metadata": {
    "scrolled": true
   },
   "outputs": [],
   "source": [
    "from sklearn.model_selection import train_test_split\n",
    "from sklearn.metrics import average_precision_score\n",
    "\n",
    "#Precision Recall wert\n",
    "X = x_train\n",
    "y = numpyTarget.transpose()\n",
    "random_state = np.random.RandomState(0)\n",
    "X_train, X_test, y_train, y_test = train_test_split(X, y, test_size=.5,\n",
    "                                                    random_state=random_state)\n",
    "\n",
    "\n",
    "\n",
    "\n",
    "classifier = LinearSVC()\n",
    "classifier.fit(X_train, y_train.ravel())\n",
    "#y_score = classifier.decision_function(X_test)\n",
    "#y_score = classifier.score(X_test,)\n",
    "\n",
    "\n",
    "\n",
    "#average_precision = average_precision_score(y_test, y_score)\n",
    "\n",
    "#print('Average precision-recall score: {0:0.2f}'.format(\n",
    "      #average_precision))\n"
   ]
  },
  {
   "cell_type": "code",
   "execution_count": null,
   "metadata": {},
   "outputs": [],
   "source": [
    "# Recall value des Classiifers\n",
    "from sklearn.metrics import recall_score\n",
    "from sklearn.metrics import precision_score\n",
    "\n",
    "def predicter(classi, to_check):\n",
    "    value = classi.predict(to_check)\n",
    "    return value\n",
    "\n",
    "y_true = y_test\n",
    "y_pred = predicter(classifier, X_test)\n",
    "\n",
    "\n"
   ]
  },
  {
   "cell_type": "code",
   "execution_count": null,
   "metadata": {},
   "outputs": [],
   "source": [
    "from sklearn import metrics\n",
    "confusion =metrics.confusion_matrix(y_true, y_pred)\n",
    "\n",
    "TP = confusion[1, 1]\n",
    "TN = confusion[0, 0]\n",
    "FP = confusion[0, 1]\n",
    "FN = confusion[1, 0]\n",
    "\n",
    "print(\"Precision\")\n",
    "print(TP / float(TP + FP))\n",
    "\n",
    "print(\"recall/Sensitivity\")\n",
    "print(TP / float(TP + FN))\n",
    "\n",
    "print(\"Accuracy\")\n",
    "print(  (TP + TN) / float(TP + TN + FP + FN))\n",
    "\n",
    "print(\"Speceificity -> if value = negative wie oft korrekt\")\n",
    "print(TN / float(TN + FP))\n",
    "\n",
    "\n"
   ]
  },
  {
   "cell_type": "code",
   "execution_count": 332,
   "metadata": {
    "collapsed": true
   },
   "outputs": [],
   "source": [
    "from sklearn.model_selection import KFold\n",
    "from sklearn.model_selection import cross_val_score\n",
    "from sklearn.model_selection import ShuffleSplit\n",
    "k_fold = KFold(n_splits=10, shuffle=True, random_state=0)\n",
    "ss = ShuffleSplit(n_splits=10, test_size=0.25, random_state=0)\n"
   ]
  },
  {
   "cell_type": "code",
   "execution_count": 333,
   "metadata": {
    "scrolled": true
   },
   "outputs": [
    {
     "name": "stderr",
     "output_type": "stream",
     "text": [
      "C:\\Users\\StefanLap\\Anaconda3\\lib\\site-packages\\sklearn\\neural_network\\multilayer_perceptron.py:564: ConvergenceWarning: Stochastic Optimizer: Maximum iterations (400) reached and the optimization hasn't converged yet.\n",
      "  % self.max_iter, ConvergenceWarning)\n",
      "C:\\Users\\StefanLap\\Anaconda3\\lib\\site-packages\\sklearn\\neural_network\\multilayer_perceptron.py:564: ConvergenceWarning: Stochastic Optimizer: Maximum iterations (400) reached and the optimization hasn't converged yet.\n",
      "  % self.max_iter, ConvergenceWarning)\n",
      "C:\\Users\\StefanLap\\Anaconda3\\lib\\site-packages\\sklearn\\neural_network\\multilayer_perceptron.py:564: ConvergenceWarning: Stochastic Optimizer: Maximum iterations (400) reached and the optimization hasn't converged yet.\n",
      "  % self.max_iter, ConvergenceWarning)\n",
      "C:\\Users\\StefanLap\\Anaconda3\\lib\\site-packages\\sklearn\\neural_network\\multilayer_perceptron.py:564: ConvergenceWarning: Stochastic Optimizer: Maximum iterations (400) reached and the optimization hasn't converged yet.\n",
      "  % self.max_iter, ConvergenceWarning)\n",
      "C:\\Users\\StefanLap\\Anaconda3\\lib\\site-packages\\sklearn\\neural_network\\multilayer_perceptron.py:564: ConvergenceWarning: Stochastic Optimizer: Maximum iterations (400) reached and the optimization hasn't converged yet.\n",
      "  % self.max_iter, ConvergenceWarning)\n",
      "C:\\Users\\StefanLap\\Anaconda3\\lib\\site-packages\\sklearn\\neural_network\\multilayer_perceptron.py:564: ConvergenceWarning: Stochastic Optimizer: Maximum iterations (400) reached and the optimization hasn't converged yet.\n",
      "  % self.max_iter, ConvergenceWarning)\n",
      "C:\\Users\\StefanLap\\Anaconda3\\lib\\site-packages\\sklearn\\neural_network\\multilayer_perceptron.py:564: ConvergenceWarning: Stochastic Optimizer: Maximum iterations (400) reached and the optimization hasn't converged yet.\n",
      "  % self.max_iter, ConvergenceWarning)\n",
      "C:\\Users\\StefanLap\\Anaconda3\\lib\\site-packages\\sklearn\\neural_network\\multilayer_perceptron.py:564: ConvergenceWarning: Stochastic Optimizer: Maximum iterations (400) reached and the optimization hasn't converged yet.\n",
      "  % self.max_iter, ConvergenceWarning)\n",
      "C:\\Users\\StefanLap\\Anaconda3\\lib\\site-packages\\sklearn\\neural_network\\multilayer_perceptron.py:564: ConvergenceWarning: Stochastic Optimizer: Maximum iterations (400) reached and the optimization hasn't converged yet.\n",
      "  % self.max_iter, ConvergenceWarning)\n"
     ]
    },
    {
     "name": "stdout",
     "output_type": "stream",
     "text": [
      "80.67\n"
     ]
    },
    {
     "name": "stderr",
     "output_type": "stream",
     "text": [
      "C:\\Users\\StefanLap\\Anaconda3\\lib\\site-packages\\sklearn\\neural_network\\multilayer_perceptron.py:564: ConvergenceWarning: Stochastic Optimizer: Maximum iterations (400) reached and the optimization hasn't converged yet.\n",
      "  % self.max_iter, ConvergenceWarning)\n"
     ]
    }
   ],
   "source": [
    "scoring = 'accuracy'\n",
    "score= cross_val_score(classifier, x_train, targetlist, cv=k_fold, n_jobs=1, scoring=scoring)\n",
    "\n",
    "print(round(np.mean(score)*100, 2))\n"
   ]
  },
  {
   "cell_type": "code",
   "execution_count": 200,
   "metadata": {
    "collapsed": true
   },
   "outputs": [],
   "source": [
    "import numpy as np\n",
    "from sklearn.neighbors import KNeighborsClassifier\n",
    "from sklearn.svm import LinearSVC\n",
    "from sklearn.neural_network import MLPClassifier\n",
    "from sklearn.preprocessing import StandardScaler\n",
    "from sklearn.naive_bayes import GaussianNB\n",
    "from sklearn.naive_bayes import BernoulliNB\n",
    "\n",
    "def fit_neuronal(training_dataset, targetlist):\n",
    "    temp_neuronal = MLPClassifier(activation='relu', alpha=0.0001, batch_size='auto', beta_1=0.9,\n",
    "       beta_2=0.999, early_stopping=False, epsilon=1e-08,\n",
    "       hidden_layer_sizes=(20,), learning_rate='constant',\n",
    "       learning_rate_init=0.001, max_iter=200, momentum=0.9,\n",
    "       nesterovs_momentum=True, power_t=0.5, random_state=None,\n",
    "       shuffle=True, solver='adam', tol=0.0001, validation_fraction=0.1,\n",
    "       verbose=False, warm_start=False)\n",
    "    temp_neuronal.fit(training_dataset, targetlist)\n",
    "    return temp_neuronal\n",
    "\n",
    "def fit_svm(training_dataset, targetlist):\n",
    "    scaler = StandardScaler()\n",
    "    X = scaler.fit_transform(training_dataset)\n",
    "    temp_svm = LinearSVC()\n",
    "    temp_svm.fit(X, targetlist)\n",
    "    return temp_svm\n",
    "\n",
    "\n",
    "def fit_knn(training_dataset, targetlist):\n",
    "    temp_knn= KNeighborsClassifier(n_neighbors=7)\n",
    "    temp_knn.fit(training_dataset, targetlist)\n",
    "    return temp_knn\n",
    "\n",
    "def fit_NB(training_dataset, targetlist, bernoulli):\n",
    "    if (bernoulli == True) :\n",
    "        temp_NB = BernoulliNB()\n",
    "        temp_NB.fit(training_dataset, targetlist)\n",
    "        return temp_NB\n",
    "    else :\n",
    "        temp_NB = GaussianNB()\n",
    "        temp_NB.fit(training_dataset, targetlist)\n",
    "        return temp_NB\n",
    "    \n",
    "#nb = fit_NB(x_train, targetlist, False)\n",
    "#nb_B = fit_NB(x_train, targetlist, True)\n",
    "#knn = fit_knn(x_train, targetlist)\n",
    "#svm = fit_svm(x_train, targetlist)\n",
    "\n",
    "#neuronal = fit_neuronal(x_train, targetlist)\n",
    "\n",
    "\n",
    "\n",
    "\n"
   ]
  },
  {
   "cell_type": "code",
   "execution_count": 20,
   "metadata": {
    "scrolled": true
   },
   "outputs": [
    {
     "name": "stdout",
     "output_type": "stream",
     "text": [
      "{'C': 1, 'kernel': 'linear'}\n",
      "[ 0.52861953  0.52861953  0.52861953  0.52861953  0.78451178  0.52861953\n",
      "  0.7979798   0.78451178  0.80808081  0.76430976  0.69360269  0.67676768]\n",
      "[ 0.00388129  0.00388129  0.00388129  0.00388129  0.03443909  0.00388129\n",
      "  0.0233637   0.03443909  0.02378005  0.04257719  0.08324153  0.07193639]\n"
     ]
    }
   ],
   "source": [
    "from sklearn.model_selection import GridSearchCV\n",
    "\n",
    "scores = ['precision', 'recall']\n",
    "\n",
    "\n",
    "\n",
    "\n",
    "tuned_parameters = [{'kernel': ['rbf'], 'gamma': [1e-3, 1e-4],\n",
    "                     'C': [1, 10, 100, 1000]},\n",
    "                    {'kernel': ['linear'], 'C': [1, 10, 100, 1000]}]\n",
    "clf = GridSearchCV(SVC(),tuned_parameters , cv=5)\n",
    "                    \n",
    "clf.fit(train_content_subject_set, targetlist)\n",
    "\n",
    "print(clf.best_params_)\n",
    "print(clf.cv_results_['mean_test_score'])\n",
    "print(clf.cv_results_['std_test_score'])\n"
   ]
  },
  {
   "cell_type": "code",
   "execution_count": 21,
   "metadata": {},
   "outputs": [
    {
     "data": {
      "text/plain": [
       "GridSearchCV(cv=None, error_score='raise',\n",
       "       estimator=MLPClassifier(activation='relu', alpha=0.0001, batch_size='auto', beta_1=0.9,\n",
       "       beta_2=0.999, early_stopping=False, epsilon=1e-08,\n",
       "       hidden_layer_sizes=(100,), learning_rate='constant',\n",
       "       learning_rate_init=0.001, max_iter=200, momentum=0.9,\n",
       "       nesterovs_momentum=True, power_t=0.5, random_state=None,\n",
       "       shuffle=True, solver='adam', tol=0.0001, validation_fraction=0.1,\n",
       "       verbose=False, warm_start=False),\n",
       "       fit_params=None, iid=True, n_jobs=1,\n",
       "       param_grid={'learning_rate': ['constant', 'invscaling', 'adaptive'], 'hidden_layer_sizes': [(30, 40, 50, 60)], 'activation': ['logistic', 'relu', 'tanh']},\n",
       "       pre_dispatch='2*n_jobs', refit=True, return_train_score='warn',\n",
       "       scoring=None, verbose=0)"
      ]
     },
     "execution_count": 21,
     "metadata": {},
     "output_type": "execute_result"
    }
   ],
   "source": [
    "from sklearn.model_selection import GridSearchCV\n",
    "\n",
    "\n",
    "gs = GridSearchCV(MLPClassifier(), param_grid={\n",
    "    'learning_rate': [\"constant\", \"invscaling\", \"adaptive\"],\n",
    "    'hidden_layer_sizes': [(30,40,50,60)], #[x for x in itertools.product((10,20,30,40,50,100),repeat=3)]\n",
    "\n",
    "'activation': [\"logistic\", \"relu\", \"tanh\"]})\n",
    "gs.fit(x_train, targetlist)\n",
    "\n"
   ]
  },
  {
   "cell_type": "code",
   "execution_count": 74,
   "metadata": {},
   "outputs": [
    {
     "name": "stdout",
     "output_type": "stream",
     "text": [
      "[1 0 0 1 0 0 1 1 0 0 1 1 1 0 0 1 1 1 1 1 1 0 1 0 1]\n"
     ]
    }
   ],
   "source": [
    "x=gs.predict(x_test)\n",
    "print(x)"
   ]
  },
  {
   "cell_type": "code",
   "execution_count": 36,
   "metadata": {},
   "outputs": [
    {
     "name": "stdout",
     "output_type": "stream",
     "text": [
      "[0.60333333333333328, 0.59999999999999998, 0.59000000000000008, 0.59942528735632183, 0.59724137931034482, 0.60356321839080462, 0.59344827586206894, 0.61045977011494268, 0.58666666666666667, 0.60011494252873554, 0.58609195402298853, 0.57310344827586202, 0.56287356321839077, 0.57310344827586202, 0.54287356321839075, 0.55977011494252871, 0.55229885057471262, 0.5798850574712644, 0.55597701149425283, 0.5832183908045977, 0.55287356321839076, 0.55931034482758624, 0.55574712643678159, 0.57620689655172419, 0.5627586206896551, 0.58632183908045976, 0.55954022988505736, 0.56643678160919531, 0.5594252873563218, 0.55252873563218396]\n"
     ]
    }
   ],
   "source": [
    "k_range = list(range(1,31))\n",
    "k_scores = []\n",
    "for k in k_range:\n",
    "    knn = KNeighborsClassifier(n_neighbors=k)\n",
    "    scores= cross_val_score(knn, x_train, targetlist, cv=10, scoring=scoring)\n",
    "    k_scores.append(scores.mean())\n",
    "print(k_scores)    "
   ]
  },
  {
   "cell_type": "code",
   "execution_count": 37,
   "metadata": {},
   "outputs": [
    {
     "data": {
      "text/plain": [
       "Text(0,0.5,'Cross-Validated Accuracy')"
      ]
     },
     "execution_count": 37,
     "metadata": {},
     "output_type": "execute_result"
    },
    {
     "data": {
      "image/png": "[encoded data removed]",
      "text/plain": [
       "<matplotlib.figure.Figure at 0x10d41ef0>"
      ]
     },
     "metadata": {},
     "output_type": "display_data"
    }
   ],
   "source": [
    "import matplotlib.pyplot as plt\n",
    "%matplotlib inline\n",
    "plt.plot(k_range, k_scores)\n",
    "plt.xlabel('Wert von K für KNN')\n",
    "plt.ylabel('Cross-Validated Accuracy')"
   ]
  },
  {
   "cell_type": "code",
   "execution_count": 23,
   "metadata": {},
   "outputs": [
    {
     "ename": "NameError",
     "evalue": "name 'y_score' is not defined",
     "output_type": "error",
     "traceback": [
      "\u001b[1;31m---------------------------------------------------------------------------\u001b[0m",
      "\u001b[1;31mNameError\u001b[0m                                 Traceback (most recent call last)",
      "\u001b[1;32m<ipython-input-23-29c5e503508e>\u001b[0m in \u001b[0;36m<module>\u001b[1;34m()\u001b[0m\n\u001b[0;32m      4\u001b[0m \u001b[1;32mimport\u001b[0m \u001b[0mmatplotlib\u001b[0m\u001b[1;33m.\u001b[0m\u001b[0mpyplot\u001b[0m \u001b[1;32mas\u001b[0m \u001b[0mplt\u001b[0m\u001b[1;33m\u001b[0m\u001b[0m\n\u001b[0;32m      5\u001b[0m \u001b[1;33m\u001b[0m\u001b[0m\n\u001b[1;32m----> 6\u001b[1;33m \u001b[0mprecision\u001b[0m\u001b[1;33m,\u001b[0m \u001b[0mrecall\u001b[0m\u001b[1;33m,\u001b[0m \u001b[0m_\u001b[0m \u001b[1;33m=\u001b[0m \u001b[0mprecision_recall_curve\u001b[0m\u001b[1;33m(\u001b[0m\u001b[0my_test\u001b[0m\u001b[1;33m,\u001b[0m \u001b[0my_score\u001b[0m\u001b[1;33m)\u001b[0m\u001b[1;33m\u001b[0m\u001b[0m\n\u001b[0m\u001b[0;32m      7\u001b[0m \u001b[1;33m\u001b[0m\u001b[0m\n\u001b[0;32m      8\u001b[0m plt.step(recall, precision, color='b', alpha=0.2,\n",
      "\u001b[1;31mNameError\u001b[0m: name 'y_score' is not defined"
     ]
    }
   ],
   "source": [
    "#Plotten des Precision recall wertes\n",
    "from sklearn.metrics import precision_recall_curve\n",
    "from __future__ import print_function\n",
    "import matplotlib.pyplot as plt\n",
    "\n",
    "precision, recall, _ = precision_recall_curve(y_test, y_score)\n",
    "\n",
    "plt.step(recall, precision, color='b', alpha=0.2,\n",
    "         where='post')\n",
    "plt.fill_between(recall, precision, step='post', alpha=0.2,\n",
    "                 color='b')\n",
    "\n",
    "plt.xlabel('Recall')\n",
    "plt.ylabel('Precision')\n",
    "plt.ylim([0.0, 1.05])\n",
    "plt.xlim([0.0, 1.0])\n",
    "plt.title('2-class Precision-Recall curve: AP={0:0.2f}'.format(\n",
    "          average_precision))\n",
    "\n",
    "plt.show()"
   ]
  },
  {
   "cell_type": "code",
   "execution_count": 45,
   "metadata": {},
   "outputs": [
    {
     "data": {
      "text/plain": [
       "array([0, 1, 1, 1, 1, 0, 0, 0, 1, 1])"
      ]
     },
     "execution_count": 45,
     "metadata": {},
     "output_type": "execute_result"
    }
   ],
   "source": [
    "classifier.predict(X_test)[0:10]\n"
   ]
  },
  {
   "cell_type": "code",
   "execution_count": 46,
   "metadata": {
    "collapsed": true
   },
   "outputs": [
    {
     "data": {
      "text/plain": [
       "array([[ 0.57142857,  0.42857143],\n",
       "       [ 0.28571429,  0.71428571],\n",
       "       [ 0.28571429,  0.71428571],\n",
       "       [ 0.42857143,  0.57142857],\n",
       "       [ 0.42857143,  0.57142857],\n",
       "       [ 0.71428571,  0.28571429],\n",
       "       [ 0.57142857,  0.42857143],\n",
       "       [ 0.71428571,  0.28571429],\n",
       "       [ 0.28571429,  0.71428571],\n",
       "       [ 0.14285714,  0.85714286],\n",
       "       [ 0.28571429,  0.71428571],\n",
       "       [ 0.42857143,  0.57142857],\n",
       "       [ 0.28571429,  0.71428571],\n",
       "       [ 0.14285714,  0.85714286],\n",
       "       [ 0.42857143,  0.57142857],\n",
       "       [ 0.42857143,  0.57142857],\n",
       "       [ 0.42857143,  0.57142857],\n",
       "       [ 0.14285714,  0.85714286],\n",
       "       [ 0.28571429,  0.71428571],\n",
       "       [ 0.85714286,  0.14285714],\n",
       "       [ 0.42857143,  0.57142857],\n",
       "       [ 0.42857143,  0.57142857],\n",
       "       [ 0.28571429,  0.71428571],\n",
       "       [ 0.14285714,  0.85714286],\n",
       "       [ 0.57142857,  0.42857143],\n",
       "       [ 0.14285714,  0.85714286],\n",
       "       [ 0.42857143,  0.57142857],\n",
       "       [ 0.57142857,  0.42857143],\n",
       "       [ 0.71428571,  0.28571429],\n",
       "       [ 0.14285714,  0.85714286],\n",
       "       [ 0.28571429,  0.71428571],\n",
       "       [ 0.71428571,  0.28571429],\n",
       "       [ 0.28571429,  0.71428571],\n",
       "       [ 0.14285714,  0.85714286],\n",
       "       [ 0.85714286,  0.14285714],\n",
       "       [ 0.42857143,  0.57142857],\n",
       "       [ 0.42857143,  0.57142857],\n",
       "       [ 0.28571429,  0.71428571],\n",
       "       [ 0.42857143,  0.57142857],\n",
       "       [ 0.57142857,  0.42857143],\n",
       "       [ 0.57142857,  0.42857143],\n",
       "       [ 0.42857143,  0.57142857],\n",
       "       [ 0.14285714,  0.85714286],\n",
       "       [ 0.42857143,  0.57142857],\n",
       "       [ 0.14285714,  0.85714286],\n",
       "       [ 0.14285714,  0.85714286],\n",
       "       [ 0.42857143,  0.57142857],\n",
       "       [ 0.28571429,  0.71428571],\n",
       "       [ 0.28571429,  0.71428571],\n",
       "       [ 0.57142857,  0.42857143],\n",
       "       [ 0.57142857,  0.42857143],\n",
       "       [ 0.57142857,  0.42857143],\n",
       "       [ 0.28571429,  0.71428571],\n",
       "       [ 0.14285714,  0.85714286],\n",
       "       [ 0.57142857,  0.42857143],\n",
       "       [ 0.71428571,  0.28571429],\n",
       "       [ 0.42857143,  0.57142857],\n",
       "       [ 0.42857143,  0.57142857],\n",
       "       [ 0.28571429,  0.71428571],\n",
       "       [ 0.28571429,  0.71428571],\n",
       "       [ 0.        ,  1.        ],\n",
       "       [ 0.28571429,  0.71428571],\n",
       "       [ 0.28571429,  0.71428571],\n",
       "       [ 0.57142857,  0.42857143],\n",
       "       [ 0.28571429,  0.71428571],\n",
       "       [ 0.71428571,  0.28571429],\n",
       "       [ 0.28571429,  0.71428571],\n",
       "       [ 0.28571429,  0.71428571],\n",
       "       [ 0.14285714,  0.85714286],\n",
       "       [ 0.28571429,  0.71428571],\n",
       "       [ 0.14285714,  0.85714286],\n",
       "       [ 0.57142857,  0.42857143],\n",
       "       [ 0.57142857,  0.42857143],\n",
       "       [ 0.14285714,  0.85714286],\n",
       "       [ 0.71428571,  0.28571429],\n",
       "       [ 0.85714286,  0.14285714],\n",
       "       [ 0.42857143,  0.57142857],\n",
       "       [ 0.28571429,  0.71428571],\n",
       "       [ 0.42857143,  0.57142857],\n",
       "       [ 0.14285714,  0.85714286],\n",
       "       [ 0.14285714,  0.85714286],\n",
       "       [ 0.57142857,  0.42857143],\n",
       "       [ 0.57142857,  0.42857143],\n",
       "       [ 0.28571429,  0.71428571],\n",
       "       [ 0.28571429,  0.71428571],\n",
       "       [ 0.42857143,  0.57142857],\n",
       "       [ 0.71428571,  0.28571429],\n",
       "       [ 0.42857143,  0.57142857],\n",
       "       [ 0.71428571,  0.28571429],\n",
       "       [ 0.42857143,  0.57142857],\n",
       "       [ 0.42857143,  0.57142857],\n",
       "       [ 0.14285714,  0.85714286],\n",
       "       [ 0.57142857,  0.42857143],\n",
       "       [ 0.71428571,  0.28571429],\n",
       "       [ 0.42857143,  0.57142857],\n",
       "       [ 0.57142857,  0.42857143],\n",
       "       [ 0.14285714,  0.85714286],\n",
       "       [ 0.42857143,  0.57142857],\n",
       "       [ 0.42857143,  0.57142857],\n",
       "       [ 0.42857143,  0.57142857],\n",
       "       [ 0.57142857,  0.42857143],\n",
       "       [ 0.42857143,  0.57142857],\n",
       "       [ 0.14285714,  0.85714286],\n",
       "       [ 0.14285714,  0.85714286],\n",
       "       [ 0.71428571,  0.28571429],\n",
       "       [ 0.28571429,  0.71428571],\n",
       "       [ 0.71428571,  0.28571429],\n",
       "       [ 0.57142857,  0.42857143],\n",
       "       [ 0.57142857,  0.42857143],\n",
       "       [ 0.42857143,  0.57142857],\n",
       "       [ 0.42857143,  0.57142857],\n",
       "       [ 0.85714286,  0.14285714],\n",
       "       [ 0.57142857,  0.42857143],\n",
       "       [ 0.28571429,  0.71428571],\n",
       "       [ 0.57142857,  0.42857143],\n",
       "       [ 0.42857143,  0.57142857],\n",
       "       [ 0.42857143,  0.57142857],\n",
       "       [ 0.14285714,  0.85714286],\n",
       "       [ 0.14285714,  0.85714286],\n",
       "       [ 0.28571429,  0.71428571],\n",
       "       [ 0.57142857,  0.42857143],\n",
       "       [ 0.57142857,  0.42857143],\n",
       "       [ 0.14285714,  0.85714286],\n",
       "       [ 0.57142857,  0.42857143],\n",
       "       [ 0.71428571,  0.28571429],\n",
       "       [ 0.28571429,  0.71428571],\n",
       "       [ 0.42857143,  0.57142857],\n",
       "       [ 0.42857143,  0.57142857],\n",
       "       [ 0.57142857,  0.42857143],\n",
       "       [ 0.57142857,  0.42857143],\n",
       "       [ 0.        ,  1.        ],\n",
       "       [ 0.85714286,  0.14285714],\n",
       "       [ 0.14285714,  0.85714286],\n",
       "       [ 0.42857143,  0.57142857],\n",
       "       [ 0.14285714,  0.85714286],\n",
       "       [ 0.42857143,  0.57142857],\n",
       "       [ 1.        ,  0.        ],\n",
       "       [ 0.28571429,  0.71428571],\n",
       "       [ 0.42857143,  0.57142857],\n",
       "       [ 0.42857143,  0.57142857],\n",
       "       [ 0.        ,  1.        ],\n",
       "       [ 0.28571429,  0.71428571],\n",
       "       [ 0.85714286,  0.14285714],\n",
       "       [ 0.71428571,  0.28571429],\n",
       "       [ 0.57142857,  0.42857143],\n",
       "       [ 0.14285714,  0.85714286],\n",
       "       [ 0.71428571,  0.28571429],\n",
       "       [ 0.42857143,  0.57142857],\n",
       "       [ 0.42857143,  0.57142857],\n",
       "       [ 0.71428571,  0.28571429]])"
      ]
     },
     "execution_count": 46,
     "metadata": {},
     "output_type": "execute_result"
    }
   ],
   "source": [
    "classifier.predict_proba(X_test)"
   ]
  },
  {
   "cell_type": "code",
   "execution_count": 47,
   "metadata": {
    "collapsed": true
   },
   "outputs": [],
   "source": [
    "y_pred_class = classifier.predict_proba(X_test)[:, 1]"
   ]
  },
  {
   "cell_type": "code",
   "execution_count": 48,
   "metadata": {
    "collapsed": true
   },
   "outputs": [],
   "source": [
    "%matplotlib inline\n",
    "import matplotlib.pyplot as plt\n",
    "plt.rcParams['font.size'] = 14"
   ]
  },
  {
   "cell_type": "code",
   "execution_count": 49,
   "metadata": {},
   "outputs": [
    {
     "data": {
      "text/plain": [
       "Text(0,0.5,'Frequency')"
      ]
     },
     "execution_count": 49,
     "metadata": {},
     "output_type": "execute_result"
    },
    {
     "data": {
      "image/png": "[encoded data removed]",
      "text/plain": [
       "<matplotlib.figure.Figure at 0x15373438>"
      ]
     },
     "metadata": {},
     "output_type": "display_data"
    }
   ],
   "source": [
    "plt.hist(y_pred_class, bins=8)\n",
    "plt.xlim(0, 1)\n",
    "plt.title('Histogram of predicted probabilities')\n",
    "plt.xlabel('Predicted probability of diabetes')\n",
    "plt.ylabel('Frequency')"
   ]
  },
  {
   "cell_type": "code",
   "execution_count": 51,
   "metadata": {},
   "outputs": [
    {
     "data": {
      "image/png": "[encoded data removed]",
      "text/plain": [
       "<matplotlib.figure.Figure at 0x16627550>"
      ]
     },
     "metadata": {},
     "output_type": "display_data"
    }
   ],
   "source": [
    "# IMPORTANT: first argument is true values, second argument is predicted probabilities\n",
    "fpr, tpr, thresholds = metrics.roc_curve(y_test, y_pred_class)\n",
    "plt.plot(fpr, tpr)\n",
    "plt.xlim([0.0, 1.0])\n",
    "plt.ylim([0.0, 1.0])\n",
    "plt.title('ROC curve for current classifier')\n",
    "plt.xlabel('False Positive Rate (1 - Specificity)')\n",
    "plt.ylabel('True Positive Rate (Sensitivity)')\n",
    "plt.grid(True)"
   ]
  },
  {
   "cell_type": "code",
   "execution_count": null,
   "metadata": {
    "collapsed": true
   },
   "outputs": [],
   "source": []
  }
 ],
 "metadata": {
  "kernelspec": {
   "display_name": "Python 3",
   "language": "python",
   "name": "python3"
  },
  "language_info": {
   "codemirror_mode": {
    "name": "ipython",
    "version": 3
   },
   "file_extension": ".py",
   "mimetype": "text/x-python",
   "name": "python",
   "nbconvert_exporter": "python",
   "pygments_lexer": "ipython3",
   "version": "3.6.3"
  }
 },
 "nbformat": 4,
 "nbformat_minor": 2
}
